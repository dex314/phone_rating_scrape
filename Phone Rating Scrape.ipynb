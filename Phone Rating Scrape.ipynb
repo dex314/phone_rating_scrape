{
 "cells": [
  {
   "cell_type": "markdown",
   "metadata": {
    "deletable": true,
    "editable": true
   },
   "source": [
    "## Intro\n",
    "\n",
    "The main idea behind this notebook is to do some web scraping and pull together all the ratings for the latest and greatest phones for Pixel, iPhone, and Samsung and try and get a quick feel for the over all ratings for the phones.\n",
    "\n",
    "This is all because I need to get a new phone soon as mine has gone sour."
   ]
  },
  {
   "cell_type": "markdown",
   "metadata": {
    "deletable": true,
    "editable": true
   },
   "source": [
    "### Scrape Google Search Results\n",
    "\n",
    "http://edmundmartin.com/scraping-google-with-python/\n",
    "\n",
    "I used the above reference to try and build out a way collect all the reviews."
   ]
  },
  {
   "cell_type": "code",
   "execution_count": 1,
   "metadata": {
    "collapsed": true,
    "deletable": true,
    "editable": true
   },
   "outputs": [],
   "source": [
    "import numpy as np\n",
    "import pandas as pd\n",
    "import matplotlib.pyplot as plt\n",
    "%matplotlib inline\n",
    "\n",
    "import time\n",
    "import requests\n",
    "from bs4 import BeautifulSoup"
   ]
  },
  {
   "cell_type": "code",
   "execution_count": 10,
   "metadata": {
    "collapsed": true,
    "deletable": true,
    "editable": true
   },
   "outputs": [],
   "source": [
    "USER_AGENT = {'User-Agent':'Mozilla/5.0 (Windows NT 10.0; Win64; x64) AppleWebKit/537.36 (KHTML, like Gecko) Chrome/61.0.3163.100 Safari/537.36'}\n",
    "\n",
    "headers = requests.utils.default_headers()\n",
    "headers.update({\n",
    "    'User-Agent': 'Mozilla/5.0 (X11; Ubuntu; Linux x86_64; rv:52.0) Gecko/20100101 Firefox/52.0',\n",
    "})"
   ]
  },
  {
   "cell_type": "markdown",
   "metadata": {
    "deletable": true,
    "editable": true
   },
   "source": [
    "I ran into some trouble when I was testing out the code where my ip got temporarily flagged as a bot or something. I used the built in error and some googling to come up with that. Luckily, as I said, it was only temporary."
   ]
  },
  {
   "cell_type": "code",
   "execution_count": 11,
   "metadata": {
    "collapsed": false,
    "deletable": true,
    "editable": true
   },
   "outputs": [],
   "source": [
    "def fetch_results(search_term, number_results, language_code):\n",
    "    assert isinstance(search_term, str), 'Search term must be a string'\n",
    "    assert isinstance(number_results, int), 'Number of results must be an integer'\n",
    "    escaped_search_term = search_term.replace(' ', '+')\n",
    " \n",
    "    google_url = 'https://www.google.com/search?q={}&num={}&hl={}'.format(escaped_search_term, number_results, language_code)\n",
    "    response = requests.get(google_url, headers=USER_AGENT)\n",
    "    response.raise_for_status()\n",
    " \n",
    "    return search_term, response.text\n",
    "\n",
    "def parse_results(html, keyword):\n",
    "    soup = BeautifulSoup(html, 'html.parser')\n",
    "\n",
    "    found_results = []\n",
    "    rank = 1\n",
    "    result_block = soup.find_all('div', attrs={'class': 'g'})\n",
    "    for result in result_block:\n",
    "\n",
    "        link = result.find('a', href=True)\n",
    "        title = result.find('h3', attrs={'class': 'r'})\n",
    "        description = result.find('span', attrs={'class': 'st'})\n",
    "        if link and title:\n",
    "            link = link['href']\n",
    "            title = title.get_text()\n",
    "            if description:\n",
    "                description = description.get_text()\n",
    "            if link != '#':\n",
    "                found_results.append({'keyword': keyword, 'rank': rank, 'title': title, 'description': description})\n",
    "                rank += 1\n",
    "    return found_results\n",
    "\n",
    "def scrape_google(search_term, number_results, language_code):\n",
    "    try:\n",
    "        keyword, html = fetch_results(search_term, number_results, language_code)\n",
    "        results = parse_results(html, keyword)\n",
    "        return results\n",
    "    except AssertionError:\n",
    "        raise Exception(\"Incorrect arguments parsed to function\")\n",
    "    except requests.HTTPError:\n",
    "        raise Exception(\"You appear to have been blocked by Google\")\n",
    "    except requests.RequestException:\n",
    "        raise Exception(\"Appears to be an issue with your connection\")"
   ]
  },
  {
   "cell_type": "markdown",
   "metadata": {
    "deletable": true,
    "editable": true
   },
   "source": [
    "The definitions above were from the reference and what I did in starting to test this out was just changing the keyword. I realized though that it was going to take further digging into the html to get what I wanted."
   ]
  },
  {
   "cell_type": "code",
   "execution_count": 12,
   "metadata": {
    "collapsed": false,
    "deletable": true,
    "editable": true
   },
   "outputs": [
    {
     "name": "stdout",
     "output_type": "stream",
     "text": [
      "[{'description': 'May 9, 2018 - Despite losing the cherished 3.5mm headphone jack, the Pixel 2 XL makes up for it in spades with a mix of unique and sought-after features\\xa0...', 'keyword': 'pixel 2 xl rating', 'title': 'Google Pixel 2 XL review | TechRadar', 'rank': 1}]\n"
     ]
    }
   ],
   "source": [
    "keywords = ['pixel 2 xl rating'] #['edmund martin', 'python', 'google scraping']\n",
    "data = []\n",
    "for keyword in keywords:\n",
    "    try:\n",
    "        results = scrape_google(keyword, 1, \"en\")\n",
    "        for result in results:\n",
    "            data.append(result)\n",
    "    except Exception as e:\n",
    "        print(e)\n",
    "    finally:\n",
    "        time.sleep(10)\n",
    "print(data)"
   ]
  },
  {
   "cell_type": "code",
   "execution_count": 13,
   "metadata": {
    "collapsed": false,
    "deletable": true,
    "editable": true
   },
   "outputs": [
    {
     "data": {
      "text/plain": [
       "'May 9, 2018 - Despite losing the cherished 3.5mm headphone jack, the Pixel 2 XL makes up for it in spades with a mix of unique and sought-after features\\xa0...'"
      ]
     },
     "execution_count": 13,
     "metadata": {},
     "output_type": "execute_result"
    }
   ],
   "source": [
    "data[0]['description']"
   ]
  },
  {
   "cell_type": "markdown",
   "metadata": {
    "deletable": true,
    "editable": true
   },
   "source": [
    "So we can pull that description out like a dictionary. \n",
    "\n",
    "I was having some trouble using the Beautiful Soup features of finding anything related to \"Rating\" so I did a small search and pulled that html out and into a text file where I control-F searched it and found the tags related to my \"Ratings\" were :\n",
    "\n",
    "__g-review-stars__"
   ]
  },
  {
   "cell_type": "code",
   "execution_count": 14,
   "metadata": {
    "collapsed": false,
    "deletable": true,
    "editable": true,
    "scrolled": false
   },
   "outputs": [],
   "source": [
    "# keyword, html = fetch_results('pixel 2 xl ratings', 100, 'en')\n",
    "keyword, html = fetch_results('iphone 7 ratings', 1, 'en')\n",
    "# print(html)"
   ]
  },
  {
   "cell_type": "code",
   "execution_count": 15,
   "metadata": {
    "collapsed": false,
    "deletable": true,
    "editable": true
   },
   "outputs": [
    {
     "data": {
      "text/plain": [
       "4"
      ]
     },
     "execution_count": 15,
     "metadata": {},
     "output_type": "execute_result"
    }
   ],
   "source": [
    "soup = BeautifulSoup(html, 'html.parser')\n",
    "len(soup.find_all('g-review-stars'))"
   ]
  },
  {
   "cell_type": "code",
   "execution_count": 16,
   "metadata": {
    "collapsed": false,
    "deletable": true,
    "editable": true
   },
   "outputs": [
    {
     "data": {
      "text/plain": [
       "[<g-review-stars><span aria-label=\"Rated 4.0 out of 5,\" class=\"tPhRLe\"><span style=\"width:53px\"></span></span></g-review-stars>,\n",
       " <g-review-stars><span aria-label=\"Rated 4.5 out of 5,\" class=\"tPhRLe\"><span style=\"width:59px\"></span></span></g-review-stars>,\n",
       " <g-review-stars><span aria-label=\"Rated 4.6 out of 5,\" class=\"tPhRLe\"><span style=\"width:59px\"></span></span></g-review-stars>,\n",
       " <g-review-stars><span aria-label=\"Rated 4.6 out of 5,\" class=\"tPhRLe\"><span style=\"width:59px\"></span></span></g-review-stars>]"
      ]
     },
     "execution_count": 16,
     "metadata": {},
     "output_type": "execute_result"
    }
   ],
   "source": [
    "soup.find_all('g-review-stars')"
   ]
  },
  {
   "cell_type": "markdown",
   "metadata": {
    "deletable": true,
    "editable": true
   },
   "source": [
    "Not every phone I searched about had the same number of reviews so I had to figure out a way to hold a minimum, additionally there are some cases where a _Rating_ appeared multiple times with in the html, sometimes the same, sometimes different. I left all instances in here for simplicity's sake however I should dig further into this to see what all it is pulling.\n",
    "\n",
    "Additionally, some of the searches could end up having multiple phone reviews in the links. It appears that __g-review-stars__ meant google review stars which leads me to think each review is for one phone but perhaps multiple features in the phone. So technically even keeping all of the reviews in should be alright."
   ]
  },
  {
   "cell_type": "code",
   "execution_count": 17,
   "metadata": {
    "collapsed": false,
    "deletable": true,
    "editable": true
   },
   "outputs": [],
   "source": [
    "## reformatted parse results function to calculate my over all ratings and throw them into a list\n",
    "def parse_res(html, keyword):\n",
    "    soup = BeautifulSoup(html, 'html.parser')\n",
    "    \n",
    "    ratings = soup.find_all('g-review-stars')\n",
    "    rat_vals = []\n",
    "    \n",
    "    for r in ratings:\n",
    "        snum = str(r).split('Rated ')[1][:3]\n",
    "        sden = str(r).split('Rated ')[1].split(' out of ')[1][0]\n",
    "\n",
    "        num, den = float(snum), float(sden)\n",
    "\n",
    "#         print(num/den)\n",
    "        rat_vals.append(num/den)\n",
    "    return rat_vals"
   ]
  },
  {
   "cell_type": "code",
   "execution_count": 18,
   "metadata": {
    "collapsed": false,
    "deletable": true,
    "editable": true
   },
   "outputs": [],
   "source": [
    "## picked a few phones\n",
    "keywords = ['pixel 2 xl ratings','iphone 8 ratings','iphone x ratings', 'samsung galaxy s8 ratings']\n",
    "\n",
    "## This portion aggregates all the data and determines the min number of ratings\n",
    "data = []\n",
    "min_rates = 30\n",
    "for k in keywords:\n",
    "    keyw, html = fetch_results(k, 100, 'en')\n",
    "    ratings = parse_res(html, keyw)\n",
    "    \n",
    "    if len(ratings) < min_rates:\n",
    "        min_rates = len(ratings)\n",
    "        \n",
    "    data.append(ratings)\n"
   ]
  },
  {
   "cell_type": "markdown",
   "metadata": {
    "deletable": true,
    "editable": true
   },
   "source": [
    "Here are some summary stats of the data sets regardless of length."
   ]
  },
  {
   "cell_type": "code",
   "execution_count": 19,
   "metadata": {
    "collapsed": false,
    "deletable": true,
    "editable": true
   },
   "outputs": [
    {
     "name": "stdout",
     "output_type": "stream",
     "text": [
      "pixel 2 xl ratings : mean = 0.848,  std = 0.078,  len = 33\n",
      "iphone 8 ratings : mean = 0.818,  std = 0.123,  len = 26\n",
      "iphone x ratings : mean = 0.864,  std = 0.125,  len = 31\n",
      "samsung galaxy s8 ratings : mean = 0.860,  std = 0.094,  len = 25\n"
     ]
    }
   ],
   "source": [
    "dc = 0\n",
    "for d in data:\n",
    "    print(keywords[dc]+\" : mean = {:.3f},  std = {:.3f},  len = {}\".format(np.mean(d), np.std(d), len(d)))\n",
    "    dc+=1"
   ]
  },
  {
   "cell_type": "code",
   "execution_count": 20,
   "metadata": {
    "collapsed": true,
    "deletable": true,
    "editable": true
   },
   "outputs": [],
   "source": [
    "from scipy import stats as sps"
   ]
  },
  {
   "cell_type": "code",
   "execution_count": 21,
   "metadata": {
    "collapsed": false,
    "deletable": true,
    "editable": true
   },
   "outputs": [
    {
     "name": "stdout",
     "output_type": "stream",
     "text": [
      "pixel 2 xl ratings to iphone 8 ratings\n",
      "Ttest_indResult(statistic=1.122724504300857, pvalue=0.2662614246107148) \n",
      "\n",
      "pixel 2 xl ratings to iphone x ratings\n",
      "Ttest_indResult(statistic=-0.58516299669541, pvalue=0.5605618872761315) \n",
      "\n",
      "pixel 2 xl ratings to samsung galaxy s8 ratings\n",
      "Ttest_indResult(statistic=-0.5000371034568548, pvalue=0.6190082635072088) \n",
      "\n",
      "iphone 8 ratings to iphone x ratings\n",
      "Ttest_indResult(statistic=-1.3552891682894874, pvalue=0.18086546878313817) \n",
      "\n",
      "iphone 8 ratings to samsung galaxy s8 ratings\n",
      "Ttest_indResult(statistic=-1.3287236603608163, pvalue=0.1900939622897355) \n",
      "\n",
      "iphone x ratings to samsung galaxy s8 ratings\n",
      "Ttest_indResult(statistic=0.1262342860756757, pvalue=0.9000153165835421) \n",
      "\n"
     ]
    }
   ],
   "source": [
    "print(keywords[0] + ' to ' + keywords[1])\n",
    "print(sps.ttest_ind(data[0], data[1]),'\\n')\n",
    "\n",
    "print(keywords[0] + ' to ' + keywords[2])\n",
    "print(sps.ttest_ind(data[0], data[2]),'\\n')\n",
    "\n",
    "print(keywords[0] + ' to ' + keywords[3])\n",
    "print(sps.ttest_ind(data[0], data[3]),'\\n')\n",
    "\n",
    "print(keywords[1] + ' to ' + keywords[2])\n",
    "print(sps.ttest_ind(data[1], data[2]),'\\n')\n",
    "\n",
    "print(keywords[1] + ' to ' + keywords[3])\n",
    "print(sps.ttest_ind(data[1], data[3]),'\\n')\n",
    "\n",
    "print(keywords[2] + ' to ' + keywords[3])\n",
    "print(sps.ttest_ind(data[2], data[3]),'\\n')"
   ]
  },
  {
   "cell_type": "markdown",
   "metadata": {
    "deletable": true,
    "editable": true
   },
   "source": [
    "Taking a look at the independent t-tests of the means of the data for alpha=0.05, we can accept the Null and the means were drawn from a population with the same distribution - so we can continue on in our comparisons."
   ]
  },
  {
   "cell_type": "markdown",
   "metadata": {
    "deletable": true,
    "editable": true
   },
   "source": [
    "Here I aggregated the data based on the min number of samples but didnt do anything to check the best or worst ratings, just the first N."
   ]
  },
  {
   "cell_type": "code",
   "execution_count": 22,
   "metadata": {
    "collapsed": false,
    "deletable": true,
    "editable": true
   },
   "outputs": [],
   "source": [
    "## changing the aggregated data to numpy and pandas \n",
    "data_array = np.zeros((len(keywords),min_rates))\n",
    "dj = 0\n",
    "for d in data:\n",
    "    ic=0\n",
    "    for i in d[:min_rates]:\n",
    "        data_array[dj,ic] = i\n",
    "        ic+=1\n",
    "    dj+=1"
   ]
  },
  {
   "cell_type": "code",
   "execution_count": 23,
   "metadata": {
    "collapsed": false,
    "deletable": true,
    "editable": true
   },
   "outputs": [],
   "source": [
    "ratings_df = pd.DataFrame(data_array.T, columns = keywords)"
   ]
  },
  {
   "cell_type": "code",
   "execution_count": 24,
   "metadata": {
    "collapsed": false,
    "deletable": true,
    "editable": true
   },
   "outputs": [
    {
     "data": {
      "text/html": [
       "<div>\n",
       "<style scoped>\n",
       "    .dataframe tbody tr th:only-of-type {\n",
       "        vertical-align: middle;\n",
       "    }\n",
       "\n",
       "    .dataframe tbody tr th {\n",
       "        vertical-align: top;\n",
       "    }\n",
       "\n",
       "    .dataframe thead th {\n",
       "        text-align: right;\n",
       "    }\n",
       "</style>\n",
       "<table border=\"1\" class=\"dataframe\">\n",
       "  <thead>\n",
       "    <tr style=\"text-align: right;\">\n",
       "      <th></th>\n",
       "      <th>pixel 2 xl ratings</th>\n",
       "      <th>iphone 8 ratings</th>\n",
       "      <th>iphone x ratings</th>\n",
       "      <th>samsung galaxy s8 ratings</th>\n",
       "    </tr>\n",
       "  </thead>\n",
       "  <tbody>\n",
       "    <tr>\n",
       "      <th>count</th>\n",
       "      <td>25.000000</td>\n",
       "      <td>25.000000</td>\n",
       "      <td>25.000000</td>\n",
       "      <td>25.000000</td>\n",
       "    </tr>\n",
       "    <tr>\n",
       "      <th>mean</th>\n",
       "      <td>0.836000</td>\n",
       "      <td>0.813600</td>\n",
       "      <td>0.848000</td>\n",
       "      <td>0.860000</td>\n",
       "    </tr>\n",
       "    <tr>\n",
       "      <th>std</th>\n",
       "      <td>0.081035</td>\n",
       "      <td>0.124996</td>\n",
       "      <td>0.132665</td>\n",
       "      <td>0.095743</td>\n",
       "    </tr>\n",
       "    <tr>\n",
       "      <th>min</th>\n",
       "      <td>0.600000</td>\n",
       "      <td>0.500000</td>\n",
       "      <td>0.300000</td>\n",
       "      <td>0.600000</td>\n",
       "    </tr>\n",
       "    <tr>\n",
       "      <th>25%</th>\n",
       "      <td>0.800000</td>\n",
       "      <td>0.800000</td>\n",
       "      <td>0.800000</td>\n",
       "      <td>0.800000</td>\n",
       "    </tr>\n",
       "    <tr>\n",
       "      <th>50%</th>\n",
       "      <td>0.800000</td>\n",
       "      <td>0.800000</td>\n",
       "      <td>0.900000</td>\n",
       "      <td>0.900000</td>\n",
       "    </tr>\n",
       "    <tr>\n",
       "      <th>75%</th>\n",
       "      <td>0.900000</td>\n",
       "      <td>0.900000</td>\n",
       "      <td>0.900000</td>\n",
       "      <td>0.900000</td>\n",
       "    </tr>\n",
       "    <tr>\n",
       "      <th>max</th>\n",
       "      <td>1.000000</td>\n",
       "      <td>1.000000</td>\n",
       "      <td>1.000000</td>\n",
       "      <td>1.000000</td>\n",
       "    </tr>\n",
       "  </tbody>\n",
       "</table>\n",
       "</div>"
      ],
      "text/plain": [
       "       pixel 2 xl ratings  iphone 8 ratings  iphone x ratings  \\\n",
       "count           25.000000         25.000000         25.000000   \n",
       "mean             0.836000          0.813600          0.848000   \n",
       "std              0.081035          0.124996          0.132665   \n",
       "min              0.600000          0.500000          0.300000   \n",
       "25%              0.800000          0.800000          0.800000   \n",
       "50%              0.800000          0.800000          0.900000   \n",
       "75%              0.900000          0.900000          0.900000   \n",
       "max              1.000000          1.000000          1.000000   \n",
       "\n",
       "       samsung galaxy s8 ratings  \n",
       "count                  25.000000  \n",
       "mean                    0.860000  \n",
       "std                     0.095743  \n",
       "min                     0.600000  \n",
       "25%                     0.800000  \n",
       "50%                     0.900000  \n",
       "75%                     0.900000  \n",
       "max                     1.000000  "
      ]
     },
     "execution_count": 24,
     "metadata": {},
     "output_type": "execute_result"
    }
   ],
   "source": [
    "ratings_df.describe()"
   ]
  },
  {
   "cell_type": "code",
   "execution_count": 25,
   "metadata": {
    "collapsed": true,
    "deletable": true,
    "editable": true
   },
   "outputs": [],
   "source": [
    "import seaborn as sns"
   ]
  },
  {
   "cell_type": "code",
   "execution_count": 31,
   "metadata": {
    "collapsed": false,
    "deletable": true,
    "editable": true
   },
   "outputs": [
    {
     "data": {
      "image/png": "[encoded data removed]",
      "text/plain": [
       "<matplotlib.figure.Figure at 0x820efa6208>"
      ]
     },
     "metadata": {},
     "output_type": "display_data"
    }
   ],
   "source": [
    "ratings_df.plot(kind='hist', bins=20, subplots=True, figsize=(12,14), sharey=True);"
   ]
  },
  {
   "cell_type": "markdown",
   "metadata": {
    "collapsed": true,
    "deletable": true,
    "editable": true
   },
   "source": [
    "So here we can see the following highlights:\n",
    "\n",
    "- The Pixel 2 XL has most counts falling in the 0.8 to 0.9 range.\n",
    "- iPhone 8 has a more even distribution of ratings but a few throughout the 0.9 - 1.0 range.\n",
    "- iPhone X has a significant count of ratings around 0.9 but also some really low ratings.\n",
    "- The Samsung has the most even distribution for counts is probably the most reliabe from these reviews.\n",
    "- The summary statistics relfect these findings and with the Pixel 2 XL and Samsung have low standard deviations indicating less variation in review.\n",
    "\n"
   ]
  },
  {
   "cell_type": "code",
   "execution_count": null,
   "metadata": {
    "collapsed": true
   },
   "outputs": [],
   "source": []
  }
 ],
 "metadata": {
  "kernelspec": {
   "display_name": "Python [default]",
   "language": "python",
   "name": "python3"
  },
  "language_info": {
   "codemirror_mode": {
    "name": "ipython",
    "version": 3
   },
   "file_extension": ".py",
   "mimetype": "text/x-python",
   "name": "python",
   "nbconvert_exporter": "python",
   "pygments_lexer": "ipython3",
   "version": "3.5.3"
  }
 },
 "nbformat": 4,
 "nbformat_minor": 2
}
